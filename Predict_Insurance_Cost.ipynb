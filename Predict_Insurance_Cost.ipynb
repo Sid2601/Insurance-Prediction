{
  "nbformat": 4,
  "nbformat_minor": 0,
  "metadata": {
    "colab": {
      "name": "Predict Insurance Cost.ipynb",
      "provenance": [],
      "toc_visible": true,
      "authorship_tag": "ABX9TyNQ8kQg6fnofOQjvCzp100f",
      "include_colab_link": true
    },
    "kernelspec": {
      "name": "python3",
      "display_name": "Python 3"
    },
    "accelerator": "GPU"
  },
  "cells": [
    {
      "cell_type": "markdown",
      "metadata": {
        "id": "view-in-github",
        "colab_type": "text"
      },
      "source": [
        "<a href=\"https://colab.research.google.com/github/Sid2601/Insurance-Prediction/blob/master/Predict_Insurance_Cost.ipynb\" target=\"_parent\"><img src=\"https://colab.research.google.com/assets/colab-badge.svg\" alt=\"Open In Colab\"/></a>"
      ]
    },
    {
      "cell_type": "markdown",
      "metadata": {
        "id": "XX17XIsQKXG_",
        "colab_type": "text"
      },
      "source": [
        "#Dataset Description:\n",
        "Columns\n",
        "\n",
        "age: age of primary beneficiary\n",
        "\n",
        "sex: insurance contractor gender, female, male\n",
        "\n",
        "bmi: Body mass index, providing an understanding of body, weights that are relatively high or low relative to height,\n",
        "objective index of body weight (kg / m ^ 2) using the ratio of height to weight, ideally 18.5 to 24.9\n",
        "\n",
        "children: Number of children covered by health insurance / Number of dependents\n",
        "\n",
        "smoker: Smoking\n",
        "\n",
        "region: the beneficiary's residential area in the US, northeast, southeast, southwest, northwest.\n",
        "\n",
        "charges: Individual medical costs billed by health insurance\n",
        "\n",
        "Task : accurately predict insurance costs"
      ]
    },
    {
      "cell_type": "markdown",
      "metadata": {
        "id": "PDWQu2QpLubO",
        "colab_type": "text"
      },
      "source": [
        "#Library Importing"
      ]
    },
    {
      "cell_type": "code",
      "metadata": {
        "id": "sPBXBS4kKWw1",
        "colab_type": "code",
        "colab": {}
      },
      "source": [
        "import numpy as np\n",
        "import pandas as pd\n",
        "from keras.utils import to_categorical\n",
        "from sklearn.preprocessing import LabelEncoder\n",
        "from sklearn.model_selection import train_test_split\n",
        "from keras.models import Sequential\n",
        "from keras.layers import Dense\n",
        "from keras.optimizers import SGD,Adam"
      ],
      "execution_count": 28,
      "outputs": []
    },
    {
      "cell_type": "markdown",
      "metadata": {
        "id": "WqketMQ2MEvP",
        "colab_type": "text"
      },
      "source": [
        "#Load The Dataset"
      ]
    },
    {
      "cell_type": "code",
      "metadata": {
        "id": "LSQJsSWRL8Uc",
        "colab_type": "code",
        "colab": {
          "base_uri": "https://localhost:8080/",
          "height": 399
        },
        "outputId": "a75a54d5-7b06-472e-e57c-379b2253a0bb"
      },
      "source": [
        "dataset = pd.read_csv('/content/datasets_13720_18513_insurance.csv')\n",
        "dataset"
      ],
      "execution_count": 37,
      "outputs": [
        {
          "output_type": "execute_result",
          "data": {
            "text/html": [
              "<div>\n",
              "<style scoped>\n",
              "    .dataframe tbody tr th:only-of-type {\n",
              "        vertical-align: middle;\n",
              "    }\n",
              "\n",
              "    .dataframe tbody tr th {\n",
              "        vertical-align: top;\n",
              "    }\n",
              "\n",
              "    .dataframe thead th {\n",
              "        text-align: right;\n",
              "    }\n",
              "</style>\n",
              "<table border=\"1\" class=\"dataframe\">\n",
              "  <thead>\n",
              "    <tr style=\"text-align: right;\">\n",
              "      <th></th>\n",
              "      <th>age</th>\n",
              "      <th>sex</th>\n",
              "      <th>bmi</th>\n",
              "      <th>children</th>\n",
              "      <th>smoker</th>\n",
              "      <th>region</th>\n",
              "      <th>charges</th>\n",
              "    </tr>\n",
              "  </thead>\n",
              "  <tbody>\n",
              "    <tr>\n",
              "      <th>0</th>\n",
              "      <td>19</td>\n",
              "      <td>female</td>\n",
              "      <td>27.900</td>\n",
              "      <td>0</td>\n",
              "      <td>yes</td>\n",
              "      <td>southwest</td>\n",
              "      <td>16884.92400</td>\n",
              "    </tr>\n",
              "    <tr>\n",
              "      <th>1</th>\n",
              "      <td>18</td>\n",
              "      <td>male</td>\n",
              "      <td>33.770</td>\n",
              "      <td>1</td>\n",
              "      <td>no</td>\n",
              "      <td>southeast</td>\n",
              "      <td>1725.55230</td>\n",
              "    </tr>\n",
              "    <tr>\n",
              "      <th>2</th>\n",
              "      <td>28</td>\n",
              "      <td>male</td>\n",
              "      <td>33.000</td>\n",
              "      <td>3</td>\n",
              "      <td>no</td>\n",
              "      <td>southeast</td>\n",
              "      <td>4449.46200</td>\n",
              "    </tr>\n",
              "    <tr>\n",
              "      <th>3</th>\n",
              "      <td>33</td>\n",
              "      <td>male</td>\n",
              "      <td>22.705</td>\n",
              "      <td>0</td>\n",
              "      <td>no</td>\n",
              "      <td>northwest</td>\n",
              "      <td>21984.47061</td>\n",
              "    </tr>\n",
              "    <tr>\n",
              "      <th>4</th>\n",
              "      <td>32</td>\n",
              "      <td>male</td>\n",
              "      <td>28.880</td>\n",
              "      <td>0</td>\n",
              "      <td>no</td>\n",
              "      <td>northwest</td>\n",
              "      <td>3866.85520</td>\n",
              "    </tr>\n",
              "    <tr>\n",
              "      <th>...</th>\n",
              "      <td>...</td>\n",
              "      <td>...</td>\n",
              "      <td>...</td>\n",
              "      <td>...</td>\n",
              "      <td>...</td>\n",
              "      <td>...</td>\n",
              "      <td>...</td>\n",
              "    </tr>\n",
              "    <tr>\n",
              "      <th>1333</th>\n",
              "      <td>50</td>\n",
              "      <td>male</td>\n",
              "      <td>30.970</td>\n",
              "      <td>3</td>\n",
              "      <td>no</td>\n",
              "      <td>northwest</td>\n",
              "      <td>10600.54830</td>\n",
              "    </tr>\n",
              "    <tr>\n",
              "      <th>1334</th>\n",
              "      <td>18</td>\n",
              "      <td>female</td>\n",
              "      <td>31.920</td>\n",
              "      <td>0</td>\n",
              "      <td>no</td>\n",
              "      <td>northeast</td>\n",
              "      <td>2205.98080</td>\n",
              "    </tr>\n",
              "    <tr>\n",
              "      <th>1335</th>\n",
              "      <td>18</td>\n",
              "      <td>female</td>\n",
              "      <td>36.850</td>\n",
              "      <td>0</td>\n",
              "      <td>no</td>\n",
              "      <td>southeast</td>\n",
              "      <td>1629.83350</td>\n",
              "    </tr>\n",
              "    <tr>\n",
              "      <th>1336</th>\n",
              "      <td>21</td>\n",
              "      <td>female</td>\n",
              "      <td>25.800</td>\n",
              "      <td>0</td>\n",
              "      <td>no</td>\n",
              "      <td>southwest</td>\n",
              "      <td>2007.94500</td>\n",
              "    </tr>\n",
              "    <tr>\n",
              "      <th>1337</th>\n",
              "      <td>61</td>\n",
              "      <td>female</td>\n",
              "      <td>29.070</td>\n",
              "      <td>0</td>\n",
              "      <td>yes</td>\n",
              "      <td>northwest</td>\n",
              "      <td>29141.36030</td>\n",
              "    </tr>\n",
              "  </tbody>\n",
              "</table>\n",
              "<p>1338 rows × 7 columns</p>\n",
              "</div>"
            ],
            "text/plain": [
              "      age     sex     bmi  children smoker     region      charges\n",
              "0      19  female  27.900         0    yes  southwest  16884.92400\n",
              "1      18    male  33.770         1     no  southeast   1725.55230\n",
              "2      28    male  33.000         3     no  southeast   4449.46200\n",
              "3      33    male  22.705         0     no  northwest  21984.47061\n",
              "4      32    male  28.880         0     no  northwest   3866.85520\n",
              "...   ...     ...     ...       ...    ...        ...          ...\n",
              "1333   50    male  30.970         3     no  northwest  10600.54830\n",
              "1334   18  female  31.920         0     no  northeast   2205.98080\n",
              "1335   18  female  36.850         0     no  southeast   1629.83350\n",
              "1336   21  female  25.800         0     no  southwest   2007.94500\n",
              "1337   61  female  29.070         0    yes  northwest  29141.36030\n",
              "\n",
              "[1338 rows x 7 columns]"
            ]
          },
          "metadata": {
            "tags": []
          },
          "execution_count": 37
        }
      ]
    },
    {
      "cell_type": "markdown",
      "metadata": {
        "id": "2IUXAKeTP2Kt",
        "colab_type": "text"
      },
      "source": [
        "#Label Encoding"
      ]
    },
    {
      "cell_type": "code",
      "metadata": {
        "id": "TD_LcoFkMPXm",
        "colab_type": "code",
        "colab": {
          "base_uri": "https://localhost:8080/",
          "height": 399
        },
        "outputId": "6430ca8e-1a46-433d-e327-cdeceee33325"
      },
      "source": [
        "encoder = LabelEncoder()\n",
        "dataset['sex'] = encoder.fit_transform(dataset['sex'])\n",
        "dataset['smoker'] = encoder.fit_transform(dataset['smoker'])\n",
        "dataset['region'] = encoder.fit_transform(dataset['region'])\n",
        "dataset\n",
        "\n",
        "\n"
      ],
      "execution_count": 38,
      "outputs": [
        {
          "output_type": "execute_result",
          "data": {
            "text/html": [
              "<div>\n",
              "<style scoped>\n",
              "    .dataframe tbody tr th:only-of-type {\n",
              "        vertical-align: middle;\n",
              "    }\n",
              "\n",
              "    .dataframe tbody tr th {\n",
              "        vertical-align: top;\n",
              "    }\n",
              "\n",
              "    .dataframe thead th {\n",
              "        text-align: right;\n",
              "    }\n",
              "</style>\n",
              "<table border=\"1\" class=\"dataframe\">\n",
              "  <thead>\n",
              "    <tr style=\"text-align: right;\">\n",
              "      <th></th>\n",
              "      <th>age</th>\n",
              "      <th>sex</th>\n",
              "      <th>bmi</th>\n",
              "      <th>children</th>\n",
              "      <th>smoker</th>\n",
              "      <th>region</th>\n",
              "      <th>charges</th>\n",
              "    </tr>\n",
              "  </thead>\n",
              "  <tbody>\n",
              "    <tr>\n",
              "      <th>0</th>\n",
              "      <td>19</td>\n",
              "      <td>0</td>\n",
              "      <td>27.900</td>\n",
              "      <td>0</td>\n",
              "      <td>1</td>\n",
              "      <td>3</td>\n",
              "      <td>16884.92400</td>\n",
              "    </tr>\n",
              "    <tr>\n",
              "      <th>1</th>\n",
              "      <td>18</td>\n",
              "      <td>1</td>\n",
              "      <td>33.770</td>\n",
              "      <td>1</td>\n",
              "      <td>0</td>\n",
              "      <td>2</td>\n",
              "      <td>1725.55230</td>\n",
              "    </tr>\n",
              "    <tr>\n",
              "      <th>2</th>\n",
              "      <td>28</td>\n",
              "      <td>1</td>\n",
              "      <td>33.000</td>\n",
              "      <td>3</td>\n",
              "      <td>0</td>\n",
              "      <td>2</td>\n",
              "      <td>4449.46200</td>\n",
              "    </tr>\n",
              "    <tr>\n",
              "      <th>3</th>\n",
              "      <td>33</td>\n",
              "      <td>1</td>\n",
              "      <td>22.705</td>\n",
              "      <td>0</td>\n",
              "      <td>0</td>\n",
              "      <td>1</td>\n",
              "      <td>21984.47061</td>\n",
              "    </tr>\n",
              "    <tr>\n",
              "      <th>4</th>\n",
              "      <td>32</td>\n",
              "      <td>1</td>\n",
              "      <td>28.880</td>\n",
              "      <td>0</td>\n",
              "      <td>0</td>\n",
              "      <td>1</td>\n",
              "      <td>3866.85520</td>\n",
              "    </tr>\n",
              "    <tr>\n",
              "      <th>...</th>\n",
              "      <td>...</td>\n",
              "      <td>...</td>\n",
              "      <td>...</td>\n",
              "      <td>...</td>\n",
              "      <td>...</td>\n",
              "      <td>...</td>\n",
              "      <td>...</td>\n",
              "    </tr>\n",
              "    <tr>\n",
              "      <th>1333</th>\n",
              "      <td>50</td>\n",
              "      <td>1</td>\n",
              "      <td>30.970</td>\n",
              "      <td>3</td>\n",
              "      <td>0</td>\n",
              "      <td>1</td>\n",
              "      <td>10600.54830</td>\n",
              "    </tr>\n",
              "    <tr>\n",
              "      <th>1334</th>\n",
              "      <td>18</td>\n",
              "      <td>0</td>\n",
              "      <td>31.920</td>\n",
              "      <td>0</td>\n",
              "      <td>0</td>\n",
              "      <td>0</td>\n",
              "      <td>2205.98080</td>\n",
              "    </tr>\n",
              "    <tr>\n",
              "      <th>1335</th>\n",
              "      <td>18</td>\n",
              "      <td>0</td>\n",
              "      <td>36.850</td>\n",
              "      <td>0</td>\n",
              "      <td>0</td>\n",
              "      <td>2</td>\n",
              "      <td>1629.83350</td>\n",
              "    </tr>\n",
              "    <tr>\n",
              "      <th>1336</th>\n",
              "      <td>21</td>\n",
              "      <td>0</td>\n",
              "      <td>25.800</td>\n",
              "      <td>0</td>\n",
              "      <td>0</td>\n",
              "      <td>3</td>\n",
              "      <td>2007.94500</td>\n",
              "    </tr>\n",
              "    <tr>\n",
              "      <th>1337</th>\n",
              "      <td>61</td>\n",
              "      <td>0</td>\n",
              "      <td>29.070</td>\n",
              "      <td>0</td>\n",
              "      <td>1</td>\n",
              "      <td>1</td>\n",
              "      <td>29141.36030</td>\n",
              "    </tr>\n",
              "  </tbody>\n",
              "</table>\n",
              "<p>1338 rows × 7 columns</p>\n",
              "</div>"
            ],
            "text/plain": [
              "      age  sex     bmi  children  smoker  region      charges\n",
              "0      19    0  27.900         0       1       3  16884.92400\n",
              "1      18    1  33.770         1       0       2   1725.55230\n",
              "2      28    1  33.000         3       0       2   4449.46200\n",
              "3      33    1  22.705         0       0       1  21984.47061\n",
              "4      32    1  28.880         0       0       1   3866.85520\n",
              "...   ...  ...     ...       ...     ...     ...          ...\n",
              "1333   50    1  30.970         3       0       1  10600.54830\n",
              "1334   18    0  31.920         0       0       0   2205.98080\n",
              "1335   18    0  36.850         0       0       2   1629.83350\n",
              "1336   21    0  25.800         0       0       3   2007.94500\n",
              "1337   61    0  29.070         0       1       1  29141.36030\n",
              "\n",
              "[1338 rows x 7 columns]"
            ]
          },
          "metadata": {
            "tags": []
          },
          "execution_count": 38
        }
      ]
    },
    {
      "cell_type": "markdown",
      "metadata": {
        "id": "bfsS9ZWsQNLj",
        "colab_type": "text"
      },
      "source": [
        "#Dataset Pre-Processing \n",
        "Becuase Of stuck of loss\n",
        "\n",
        "\n",
        "(x-mean/max)"
      ]
    },
    {
      "cell_type": "code",
      "metadata": {
        "id": "2T9f_-6gKnOQ",
        "colab_type": "code",
        "colab": {}
      },
      "source": [
        "dataset['age'] = (dataset['age']-dataset['age'].mean())/dataset['age'].max()\n",
        "dataset['sex'] = (dataset['sex']-dataset['sex'].mean())/dataset['sex'].max()\n",
        "dataset['bmi'] = (dataset['bmi']-dataset['bmi'].mean())/dataset['bmi'].max()\n",
        "dataset['children'] = (dataset['children']-dataset['children'].mean())/dataset['children'].max()\n",
        "dataset['smoker'] = (dataset['smoker']-dataset['smoker'].mean())/dataset['smoker'].max()\n",
        "dataset['region'] = (dataset['region']-dataset['region'].mean())/dataset['region'].max()\n",
        "dataset['charges'] = (dataset['charges']-dataset['charges'].mean())/dataset['charges'].max()\n",
        "x = dataset.iloc[:,0:6].values\n",
        "y = dataset.iloc[:,6].values\n",
        "\n",
        "\n",
        "#It gives loss of =  0.0354\n"
      ],
      "execution_count": 39,
      "outputs": []
    },
    {
      "cell_type": "code",
      "metadata": {
        "id": "LZPMB_MnRXJL",
        "colab_type": "code",
        "colab": {}
      },
      "source": [
        "'''dataset['age'] = (dataset['age']-dataset['age'].mean())/dataset['age'].sum()\n",
        "dataset['sex'] = (dataset['sex']-dataset['sex'].mean())/dataset['sex'].sum()\n",
        "dataset['bmi'] = (dataset['bmi']-dataset['bmi'].mean())/dataset['bmi'].sum()\n",
        "dataset['children'] = (dataset['children']-dataset['children'].mean())/dataset['children'].sum()\n",
        "dataset['smoker'] = (dataset['smoker']-dataset['smoker'].mean())/dataset['smoker'].sum()\n",
        "dataset['region'] = (dataset['region']-dataset['region'].mean())/dataset['region'].sum()\n",
        "dataset['charges'] = (dataset['charges']-dataset['charges'].mean())/dataset['charges'].sum()\n",
        "x = dataset.iloc[:,0:6].values\n",
        "y = dataset.iloc[:,6].values\n",
        "'''\n",
        "\n",
        "#it will give loss of = e^-7"
      ],
      "execution_count": 31,
      "outputs": []
    },
    {
      "cell_type": "markdown",
      "metadata": {
        "id": "BtczfzwTQpZ0",
        "colab_type": "text"
      },
      "source": [
        "#Split Data into train and test part"
      ]
    },
    {
      "cell_type": "code",
      "metadata": {
        "id": "86jCltFiOYnH",
        "colab_type": "code",
        "colab": {}
      },
      "source": [
        "X_train,X_test,Y_train,Y_test = train_test_split(x,y,test_size=0.3,random_state=1)"
      ],
      "execution_count": 40,
      "outputs": []
    },
    {
      "cell_type": "markdown",
      "metadata": {
        "id": "BViqZANoQmzr",
        "colab_type": "text"
      },
      "source": [
        "#Model Building"
      ]
    },
    {
      "cell_type": "code",
      "metadata": {
        "id": "6G78zlyKP3i9",
        "colab_type": "code",
        "colab": {
          "base_uri": "https://localhost:8080/",
          "height": 372
        },
        "outputId": "aca6810d-cecf-42e9-880d-b4a03d6d4cb6"
      },
      "source": [
        "model = Sequential()\n",
        "\n",
        "model.add(Dense(300,input_shape=(6,),activation='relu'))\n",
        "\n",
        "model.add(Dense(200,activation='relu'))\n",
        "model.add(Dense(100,activation='relu'))\n",
        "model.add(Dense(50,activation='relu'))\n",
        "model.add(Dense(10,activation='relu'))\n",
        "model.add(Dense(1,activation='linear'))\n",
        "\n",
        "model.compile(Adam(lr=0.1),'mean_squared_error')\n",
        "\n",
        "model.summary()"
      ],
      "execution_count": 41,
      "outputs": [
        {
          "output_type": "stream",
          "text": [
            "Model: \"sequential_6\"\n",
            "_________________________________________________________________\n",
            "Layer (type)                 Output Shape              Param #   \n",
            "=================================================================\n",
            "dense_38 (Dense)             (None, 300)               2100      \n",
            "_________________________________________________________________\n",
            "dense_39 (Dense)             (None, 200)               60200     \n",
            "_________________________________________________________________\n",
            "dense_40 (Dense)             (None, 100)               20100     \n",
            "_________________________________________________________________\n",
            "dense_41 (Dense)             (None, 50)                5050      \n",
            "_________________________________________________________________\n",
            "dense_42 (Dense)             (None, 10)                510       \n",
            "_________________________________________________________________\n",
            "dense_43 (Dense)             (None, 1)                 11        \n",
            "=================================================================\n",
            "Total params: 87,971\n",
            "Trainable params: 87,971\n",
            "Non-trainable params: 0\n",
            "_________________________________________________________________\n"
          ],
          "name": "stdout"
        }
      ]
    },
    {
      "cell_type": "code",
      "metadata": {
        "id": "cDR9KDFmQ3iO",
        "colab_type": "code",
        "colab": {
          "base_uri": "https://localhost:8080/",
          "height": 1000
        },
        "outputId": "4de12463-ee27-4d7b-a0b7-8c07b2cf6ec3"
      },
      "source": [
        "model.fit(X_train,Y_train,epochs=100)\n"
      ],
      "execution_count": 42,
      "outputs": [
        {
          "output_type": "stream",
          "text": [
            "Epoch 1/100\n",
            "30/30 [==============================] - 0s 3ms/step - loss: 105.8213\n",
            "Epoch 2/100\n",
            "30/30 [==============================] - 0s 4ms/step - loss: 0.0637\n",
            "Epoch 3/100\n",
            "30/30 [==============================] - 0s 3ms/step - loss: 0.0476\n",
            "Epoch 4/100\n",
            "30/30 [==============================] - 0s 3ms/step - loss: 0.0396\n",
            "Epoch 5/100\n",
            "30/30 [==============================] - 0s 3ms/step - loss: 0.0372\n",
            "Epoch 6/100\n",
            "30/30 [==============================] - 0s 3ms/step - loss: 0.0367\n",
            "Epoch 7/100\n",
            "30/30 [==============================] - 0s 3ms/step - loss: 0.0366\n",
            "Epoch 8/100\n",
            "30/30 [==============================] - 0s 3ms/step - loss: 0.0366\n",
            "Epoch 9/100\n",
            "30/30 [==============================] - 0s 3ms/step - loss: 0.0366\n",
            "Epoch 10/100\n",
            "30/30 [==============================] - 0s 3ms/step - loss: 0.0366\n",
            "Epoch 11/100\n",
            "30/30 [==============================] - 0s 3ms/step - loss: 0.0366\n",
            "Epoch 12/100\n",
            "30/30 [==============================] - 0s 4ms/step - loss: 0.0366\n",
            "Epoch 13/100\n",
            "30/30 [==============================] - 0s 4ms/step - loss: 0.0367\n",
            "Epoch 14/100\n",
            "30/30 [==============================] - 0s 3ms/step - loss: 0.0367\n",
            "Epoch 15/100\n",
            "30/30 [==============================] - 0s 3ms/step - loss: 0.0366\n",
            "Epoch 16/100\n",
            "30/30 [==============================] - 0s 3ms/step - loss: 0.0366\n",
            "Epoch 17/100\n",
            "30/30 [==============================] - 0s 3ms/step - loss: 0.0366\n",
            "Epoch 18/100\n",
            "30/30 [==============================] - 0s 3ms/step - loss: 0.0366\n",
            "Epoch 19/100\n",
            "30/30 [==============================] - 0s 3ms/step - loss: 0.0366\n",
            "Epoch 20/100\n",
            "30/30 [==============================] - 0s 3ms/step - loss: 0.0366\n",
            "Epoch 21/100\n",
            "30/30 [==============================] - 0s 4ms/step - loss: 0.0366\n",
            "Epoch 22/100\n",
            "30/30 [==============================] - 0s 3ms/step - loss: 0.0366\n",
            "Epoch 23/100\n",
            "30/30 [==============================] - 0s 3ms/step - loss: 0.0366\n",
            "Epoch 24/100\n",
            "30/30 [==============================] - 0s 3ms/step - loss: 0.0366\n",
            "Epoch 25/100\n",
            "30/30 [==============================] - 0s 3ms/step - loss: 0.0366\n",
            "Epoch 26/100\n",
            "30/30 [==============================] - 0s 3ms/step - loss: 0.0366\n",
            "Epoch 27/100\n",
            "30/30 [==============================] - 0s 3ms/step - loss: 0.0366\n",
            "Epoch 28/100\n",
            "30/30 [==============================] - 0s 3ms/step - loss: 0.0366\n",
            "Epoch 29/100\n",
            "30/30 [==============================] - 0s 3ms/step - loss: 0.0366\n",
            "Epoch 30/100\n",
            "30/30 [==============================] - 0s 3ms/step - loss: 0.0366\n",
            "Epoch 31/100\n",
            "30/30 [==============================] - 0s 3ms/step - loss: 0.0366\n",
            "Epoch 32/100\n",
            "30/30 [==============================] - 0s 3ms/step - loss: 0.0366\n",
            "Epoch 33/100\n",
            "30/30 [==============================] - 0s 4ms/step - loss: 0.0366\n",
            "Epoch 34/100\n",
            "30/30 [==============================] - 0s 3ms/step - loss: 0.0366\n",
            "Epoch 35/100\n",
            "30/30 [==============================] - 0s 3ms/step - loss: 0.0366\n",
            "Epoch 36/100\n",
            "30/30 [==============================] - 0s 3ms/step - loss: 0.0366\n",
            "Epoch 37/100\n",
            "30/30 [==============================] - 0s 3ms/step - loss: 0.0366\n",
            "Epoch 38/100\n",
            "30/30 [==============================] - 0s 4ms/step - loss: 0.0366\n",
            "Epoch 39/100\n",
            "30/30 [==============================] - 0s 3ms/step - loss: 0.0366\n",
            "Epoch 40/100\n",
            "30/30 [==============================] - 0s 3ms/step - loss: 0.0366\n",
            "Epoch 41/100\n",
            "30/30 [==============================] - 0s 3ms/step - loss: 0.0366\n",
            "Epoch 42/100\n",
            "30/30 [==============================] - 0s 3ms/step - loss: 0.0366\n",
            "Epoch 43/100\n",
            "30/30 [==============================] - 0s 3ms/step - loss: 0.0367\n",
            "Epoch 44/100\n",
            "30/30 [==============================] - 0s 3ms/step - loss: 0.0366\n",
            "Epoch 45/100\n",
            "30/30 [==============================] - 0s 4ms/step - loss: 0.0366\n",
            "Epoch 46/100\n",
            "30/30 [==============================] - 0s 3ms/step - loss: 0.0366\n",
            "Epoch 47/100\n",
            "30/30 [==============================] - 0s 3ms/step - loss: 0.0368\n",
            "Epoch 48/100\n",
            "30/30 [==============================] - 0s 3ms/step - loss: 0.0366\n",
            "Epoch 49/100\n",
            "30/30 [==============================] - 0s 4ms/step - loss: 0.0366\n",
            "Epoch 50/100\n",
            "30/30 [==============================] - 0s 3ms/step - loss: 0.0366\n",
            "Epoch 51/100\n",
            "30/30 [==============================] - 0s 4ms/step - loss: 0.0367\n",
            "Epoch 52/100\n",
            "30/30 [==============================] - 0s 3ms/step - loss: 0.0367\n",
            "Epoch 53/100\n",
            "30/30 [==============================] - 0s 4ms/step - loss: 0.0366\n",
            "Epoch 54/100\n",
            "30/30 [==============================] - 0s 3ms/step - loss: 0.0366\n",
            "Epoch 55/100\n",
            "30/30 [==============================] - 0s 3ms/step - loss: 0.0366\n",
            "Epoch 56/100\n",
            "30/30 [==============================] - 0s 3ms/step - loss: 0.0367\n",
            "Epoch 57/100\n",
            "30/30 [==============================] - 0s 3ms/step - loss: 0.0366\n",
            "Epoch 58/100\n",
            "30/30 [==============================] - 0s 3ms/step - loss: 0.0366\n",
            "Epoch 59/100\n",
            "30/30 [==============================] - 0s 3ms/step - loss: 0.0366\n",
            "Epoch 60/100\n",
            "30/30 [==============================] - 0s 3ms/step - loss: 0.0366\n",
            "Epoch 61/100\n",
            "30/30 [==============================] - 0s 3ms/step - loss: 0.0366\n",
            "Epoch 62/100\n",
            "30/30 [==============================] - 0s 3ms/step - loss: 0.0367\n",
            "Epoch 63/100\n",
            "30/30 [==============================] - 0s 3ms/step - loss: 0.0366\n",
            "Epoch 64/100\n",
            "30/30 [==============================] - 0s 4ms/step - loss: 0.0366\n",
            "Epoch 65/100\n",
            "30/30 [==============================] - 0s 3ms/step - loss: 0.0367\n",
            "Epoch 66/100\n",
            "30/30 [==============================] - 0s 3ms/step - loss: 0.0366\n",
            "Epoch 67/100\n",
            "30/30 [==============================] - 0s 3ms/step - loss: 0.0367\n",
            "Epoch 68/100\n",
            "30/30 [==============================] - 0s 3ms/step - loss: 0.0367\n",
            "Epoch 69/100\n",
            "30/30 [==============================] - 0s 3ms/step - loss: 0.0366\n",
            "Epoch 70/100\n",
            "30/30 [==============================] - 0s 3ms/step - loss: 0.0366\n",
            "Epoch 71/100\n",
            "30/30 [==============================] - 0s 3ms/step - loss: 0.0367\n",
            "Epoch 72/100\n",
            "30/30 [==============================] - 0s 3ms/step - loss: 0.0367\n",
            "Epoch 73/100\n",
            "30/30 [==============================] - 0s 3ms/step - loss: 0.0367\n",
            "Epoch 74/100\n",
            "30/30 [==============================] - 0s 3ms/step - loss: 0.0367\n",
            "Epoch 75/100\n",
            "30/30 [==============================] - 0s 4ms/step - loss: 0.0366\n",
            "Epoch 76/100\n",
            "30/30 [==============================] - 0s 3ms/step - loss: 0.0366\n",
            "Epoch 77/100\n",
            "30/30 [==============================] - 0s 3ms/step - loss: 0.0367\n",
            "Epoch 78/100\n",
            "30/30 [==============================] - 0s 4ms/step - loss: 0.0366\n",
            "Epoch 79/100\n",
            "30/30 [==============================] - 0s 3ms/step - loss: 0.0367\n",
            "Epoch 80/100\n",
            "30/30 [==============================] - 0s 3ms/step - loss: 0.0366\n",
            "Epoch 81/100\n",
            "30/30 [==============================] - 0s 3ms/step - loss: 0.0367\n",
            "Epoch 82/100\n",
            "30/30 [==============================] - 0s 3ms/step - loss: 0.0368\n",
            "Epoch 83/100\n",
            "30/30 [==============================] - 0s 3ms/step - loss: 0.0369\n",
            "Epoch 84/100\n",
            "30/30 [==============================] - 0s 3ms/step - loss: 0.0366\n",
            "Epoch 85/100\n",
            "30/30 [==============================] - 0s 3ms/step - loss: 0.0367\n",
            "Epoch 86/100\n",
            "30/30 [==============================] - 0s 3ms/step - loss: 0.0367\n",
            "Epoch 87/100\n",
            "30/30 [==============================] - 0s 3ms/step - loss: 0.0367\n",
            "Epoch 88/100\n",
            "30/30 [==============================] - 0s 3ms/step - loss: 0.0368\n",
            "Epoch 89/100\n",
            "30/30 [==============================] - 0s 3ms/step - loss: 0.0366\n",
            "Epoch 90/100\n",
            "30/30 [==============================] - 0s 3ms/step - loss: 0.0368\n",
            "Epoch 91/100\n",
            "30/30 [==============================] - 0s 4ms/step - loss: 0.0365\n",
            "Epoch 92/100\n",
            "30/30 [==============================] - 0s 3ms/step - loss: 0.0367\n",
            "Epoch 93/100\n",
            "30/30 [==============================] - 0s 3ms/step - loss: 0.0366\n",
            "Epoch 94/100\n",
            "30/30 [==============================] - 0s 3ms/step - loss: 0.0367\n",
            "Epoch 95/100\n",
            "30/30 [==============================] - 0s 3ms/step - loss: 0.0366\n",
            "Epoch 96/100\n",
            "30/30 [==============================] - 0s 3ms/step - loss: 0.0366\n",
            "Epoch 97/100\n",
            "30/30 [==============================] - 0s 4ms/step - loss: 0.0367\n",
            "Epoch 98/100\n",
            "30/30 [==============================] - 0s 3ms/step - loss: 0.0367\n",
            "Epoch 99/100\n",
            "30/30 [==============================] - 0s 3ms/step - loss: 0.0366\n",
            "Epoch 100/100\n",
            "30/30 [==============================] - 0s 3ms/step - loss: 0.0366\n"
          ],
          "name": "stdout"
        },
        {
          "output_type": "execute_result",
          "data": {
            "text/plain": [
              "<tensorflow.python.keras.callbacks.History at 0x7f0ffbd70f60>"
            ]
          },
          "metadata": {
            "tags": []
          },
          "execution_count": 42
        }
      ]
    },
    {
      "cell_type": "code",
      "metadata": {
        "id": "uF4EBZKlRA2a",
        "colab_type": "code",
        "colab": {
          "base_uri": "https://localhost:8080/",
          "height": 977
        },
        "outputId": "041e5155-2456-483d-ff7a-c72ddec56dc1"
      },
      "source": [
        "Y_test"
      ],
      "execution_count": null,
      "outputs": [
        {
          "output_type": "execute_result",
          "data": {
            "text/plain": [
              "array([-0.05560402, -0.07405832,  0.50856802, -0.00502351, -0.05686287,\n",
              "       -0.13752586, -0.17362644, -0.02875446, -0.08990466, -0.12302566,\n",
              "       -0.10220073, -0.04353862, -0.09303175, -0.14246924,  0.07903851,\n",
              "       -0.040266  , -0.01171103, -0.15336063, -0.10682975,  0.31684584,\n",
              "        0.16774171, -0.00983284,  0.15328647,  0.15359782, -0.18183648,\n",
              "       -0.13490288, -0.14956458, -0.08762294, -0.14918828, -0.07616319,\n",
              "       -0.08171096,  0.55981787, -0.00456425,  0.11541182,  0.02040865,\n",
              "       -0.14321528, -0.07720284,  0.59469786,  0.41920543, -0.17860842,\n",
              "       -0.12250782, -0.16313679,  0.10786976,  0.53670758,  0.35877227,\n",
              "        0.19991285,  0.10159821, -0.09925466, -0.13410948,  0.13990834,\n",
              "       -0.16262919,  0.08731761,  0.16148315,  0.51724116,  0.17181812,\n",
              "       -0.1568372 , -0.17167519, -0.06967512,  0.01894151, -0.00247478,\n",
              "       -0.18843352,  0.52450238,  0.01018341, -0.05708014, -0.03972925,\n",
              "       -0.05316499,  0.30230185,  0.39949446, -0.15822243, -0.08009521,\n",
              "       -0.00358319, -0.02691214,  0.04645452,  0.0096839 , -0.00404911,\n",
              "       -0.00083625, -0.09602127, -0.08685837,  0.11018338,  0.53525527,\n",
              "       -0.02527885,  0.51109556, -0.17586674, -0.09141179,  0.43537106,\n",
              "        0.08941563, -0.15461866, -0.1657642 , -0.01468697,  0.36956071,\n",
              "       -0.10876638, -0.04791855,  0.0722667 , -0.07455907, -0.13723596,\n",
              "       -0.12736107,  0.45527795,  0.40344913, -0.12455651, -0.04183816,\n",
              "       -0.17948973, -0.12377155, -0.1398918 ,  0.38375395,  0.30605152,\n",
              "       -0.1555102 , -0.04223486, -0.15231982, -0.02079064,  0.61659312,\n",
              "       -0.01246771, -0.14119799, -0.06305316,  0.32087388,  0.55519614,\n",
              "       -0.0868863 , -0.1772866 , -0.0756769 , -0.01447772, -0.06223149,\n",
              "        0.45246824, -0.05142485,  0.0164435 , -0.12296757, -0.08849602,\n",
              "       -0.13115817,  0.15886491,  0.12275489,  0.54732169, -0.17803086,\n",
              "       -0.07920942, -0.18103799, -0.11437262, -0.0612995 ,  0.13914929,\n",
              "        0.34845646,  0.09793128, -0.04960295,  0.15641055, -0.1643609 ,\n",
              "       -0.17263258, -0.04196178, -0.06218745, -0.04446194, -0.13134096,\n",
              "        0.01636219,  0.23549278,  0.01812206, -0.18257898,  0.19204342,\n",
              "       -0.10530511,  0.41306506, -0.05184789, -0.18111951, -0.1652853 ,\n",
              "       -0.10616498, -0.16664705, -0.18113389, -0.03426095, -0.04948083,\n",
              "       -0.13209104, -0.00450911,  0.24545413, -0.06082876, -0.13683752,\n",
              "        0.06049832,  0.00900235, -0.1122337 , -0.13845303, -0.18247424,\n",
              "       -0.14445112, -0.13854898, -0.07777246, -0.17693921, -0.14128301,\n",
              "       -0.13745807, -0.13864631, -0.11216685,  0.26524072, -0.18129871,\n",
              "       -0.03266037, -0.10151349, -0.03001017, -0.16891854,  0.22119159,\n",
              "        0.23256721, -0.17273877, -0.16736038,  0.02230261, -0.04546794,\n",
              "        0.43635805, -0.14565443, -0.12228197,  0.12471695, -0.16835434,\n",
              "       -0.17715848, -0.10763628, -0.10535718, -0.14446047, -0.14155201,\n",
              "       -0.02756791,  0.52718541, -0.01570932,  0.09298231, -0.13857574,\n",
              "        0.46572418,  0.15635856, -0.06475527, -0.11657287, -0.19007284,\n",
              "       -0.07064675,  0.01212246, -0.12479534, -0.03880302, -0.10958351,\n",
              "       -0.1772108 , -0.10229945, -0.12413822,  0.01146087, -0.10024148,\n",
              "       -0.11092876, -0.08285889, -0.0782949 , -0.15781501, -0.02230315,\n",
              "        0.01474216, -0.01575833, -0.02247534, -0.10377684, -0.17457572,\n",
              "       -0.19035337, -0.07726957, -0.01608726, -0.13657167,  0.06830466,\n",
              "       -0.10027314, -0.05995004,  0.32904956, -0.11295668, -0.02416077,\n",
              "       -0.12367623,  0.3794066 , -0.09249821, -0.09323089, -0.07621676,\n",
              "       -0.04403989, -0.15666437, -0.08692382, -0.16525701, -0.10054727,\n",
              "        0.09803205,  0.53370949, -0.14556114, -0.15731409, -0.09325149,\n",
              "       -0.18136705, -0.09133551, -0.18253898, -0.13160397, -0.15224194,\n",
              "       -0.07315398,  0.17641158,  0.50869638,  0.0274318 , -0.1035862 ,\n",
              "        0.11664651,  0.43377484, -0.05911595])"
            ]
          },
          "metadata": {
            "tags": []
          },
          "execution_count": 51
        }
      ]
    },
    {
      "cell_type": "code",
      "metadata": {
        "id": "QBn8SVP6U5Y6",
        "colab_type": "code",
        "colab": {
          "base_uri": "https://localhost:8080/",
          "height": 70
        },
        "outputId": "71f66a38-c099-4c18-9e8c-0a0ca4a4d571"
      },
      "source": [
        "result = model.evaluate(X_test, Y_test)\n",
        "print(result)\n",
        "accuracy_ANN = 1 - result\n",
        "print(\"Accuracy : {}\".format(accuracy_ANN))"
      ],
      "execution_count": 43,
      "outputs": [
        {
          "output_type": "stream",
          "text": [
            "13/13 [==============================] - 0s 2ms/step - loss: 0.0354\n",
            "0.03541728854179382\n",
            "Accuracy : 0.9645827114582062\n"
          ],
          "name": "stdout"
        }
      ]
    },
    {
      "cell_type": "code",
      "metadata": {
        "id": "l3siGOfhU8Jf",
        "colab_type": "code",
        "colab": {
          "base_uri": "https://localhost:8080/",
          "height": 124
        },
        "outputId": "3f0834c1-966c-4aec-bc9a-f2ffec5497f5"
      },
      "source": [
        "from sklearn.metrics import mean_squared_error,mean_absolute_error\n",
        "pred_train= model.predict(X_train)\n",
        "print(np.sqrt(mean_squared_error(Y_train,pred_train)))\n",
        "print(mean_absolute_error(Y_train,pred_train))\n",
        "print(mean_squared_error(Y_train,pred_train))\n",
        "\n",
        "pred= model.predict(X_test)\n",
        "print(np.sqrt(mean_squared_error(Y_test,pred))) \n",
        "print(mean_absolute_error(Y_test,pred))\n",
        "print(mean_squared_error(Y_test,pred))\n"
      ],
      "execution_count": 44,
      "outputs": [
        {
          "output_type": "stream",
          "text": [
            "0.19260886019234313\n",
            "0.15429907687171954\n",
            "0.03709817302459358\n",
            "0.18819481787513878\n",
            "0.14814536475763124\n",
            "0.03541728947505666\n"
          ],
          "name": "stdout"
        }
      ]
    },
    {
      "cell_type": "code",
      "metadata": {
        "id": "ZsuUdhDtT27q",
        "colab_type": "code",
        "colab": {}
      },
      "source": [
        ""
      ],
      "execution_count": null,
      "outputs": []
    }
  ]
}